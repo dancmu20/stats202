{
 "cells": [
  {
   "cell_type": "code",
   "execution_count": 4,
   "id": "4ae0e835-1a84-4495-ad8e-a57c218ecda2",
   "metadata": {},
   "outputs": [],
   "source": [
    "import pandas as pd\n",
    "import numpy as np\n",
    "\n",
    "# List of file paths\n",
    "file_paths = [\n",
    "    'Boosting_hyper.tuned_predictions.csv',\n",
    "    'Boosting_predictions.csv',\n",
    "    'predictions_log_svm.csv',\n",
    "    'predictions_sqrt_svm_remove_sig5.csv',\n",
    "    'predictions_Ensembling_power_svm_RF_LR_.csv',\n",
    "    'predictions_log_ensemble_SVM_RF_Logistic.csv'\n",
    "]\n",
    "\n",
    "# Load all files into a list of DataFrames\n",
    "dfs = [pd.read_csv(file) for file in file_paths]\n",
    "\n",
    "# Merge all DataFrames on 'id' column\n",
    "merged_df = pd.concat(dfs, axis=1)\n",
    "\n",
    "# Remove duplicate 'id' columns\n",
    "merged_df = merged_df.loc[:, ~merged_df.columns.duplicated()]\n",
    "\n",
    "# Extract 'id' and predicted 'relevance' columns\n",
    "id_column = 'id'\n",
    "relevance_columns = [col for col in merged_df.columns if col != id_column]\n",
    "\n",
    "# Combine the results by voting\n",
    "def majority_vote(row):\n",
    "    return int(row[relevance_columns].mode()[0])\n",
    "\n",
    "# Apply majority voting\n",
    "merged_df['prediction'] = merged_df.apply(majority_vote, axis=1)\n",
    "\n",
    "# Select the final columns to be saved\n",
    "result_df = merged_df[[ 'prediction', id_column]]\n",
    "\n",
    "# Save the combined results to a new CSV file\n",
    "result_df.to_csv('combination_Six_models.csv', index=False)\n"
   ]
  },
  {
   "cell_type": "code",
   "execution_count": null,
   "id": "c79cf669-8089-4b77-bb37-c8e551b217ca",
   "metadata": {},
   "outputs": [],
   "source": []
  }
 ],
 "metadata": {
  "kernelspec": {
   "display_name": "Python [conda env:base] *",
   "language": "python",
   "name": "conda-base-py"
  },
  "language_info": {
   "codemirror_mode": {
    "name": "ipython",
    "version": 3
   },
   "file_extension": ".py",
   "mimetype": "text/x-python",
   "name": "python",
   "nbconvert_exporter": "python",
   "pygments_lexer": "ipython3",
   "version": "3.11.7"
  }
 },
 "nbformat": 4,
 "nbformat_minor": 5
}

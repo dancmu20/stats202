{
 "cells": [
  {
   "cell_type": "code",
   "execution_count": 36,
   "id": "b96a7c4c-e163-4b11-8387-507647fef4a5",
   "metadata": {},
   "outputs": [],
   "source": [
    "import pandas as pd\n",
    "import numpy as np\n",
    "from sklearn.preprocessing import StandardScaler\n",
    "from sklearn.model_selection import KFold\n",
    "import sklearn.model_selection as skm\n",
    "import matplotlib.pyplot as plt\n",
    "import seaborn as sns\n",
    "from ISLP import confusion_table\n",
    "from sklearn.svm import SVC\n",
    "from sklearn.metrics import accuracy_score"
   ]
  },
  {
   "cell_type": "code",
   "execution_count": 37,
   "id": "736a3a98-925a-412a-8c7c-1f8fe70ffa8f",
   "metadata": {},
   "outputs": [],
   "source": [
    "import warnings\n",
    "\n",
    "warnings.filterwarnings('ignore')"
   ]
  },
  {
   "cell_type": "markdown",
   "id": "cce983ed-643d-4aeb-a808-a07f76dd3809",
   "metadata": {},
   "source": [
    "## 1. Load data"
   ]
  },
  {
   "cell_type": "code",
   "execution_count": 38,
   "id": "d27ae707-c4ea-44e0-827d-19b3f7cc999f",
   "metadata": {},
   "outputs": [
    {
     "data": {
      "text/html": [
       "<div>\n",
       "<style scoped>\n",
       "    .dataframe tbody tr th:only-of-type {\n",
       "        vertical-align: middle;\n",
       "    }\n",
       "\n",
       "    .dataframe tbody tr th {\n",
       "        vertical-align: top;\n",
       "    }\n",
       "\n",
       "    .dataframe thead th {\n",
       "        text-align: right;\n",
       "    }\n",
       "</style>\n",
       "<table border=\"1\" class=\"dataframe\">\n",
       "  <thead>\n",
       "    <tr style=\"text-align: right;\">\n",
       "      <th></th>\n",
       "      <th>query_id</th>\n",
       "      <th>url_id</th>\n",
       "      <th>query_length</th>\n",
       "      <th>is_homepage</th>\n",
       "      <th>sig1</th>\n",
       "      <th>sig2</th>\n",
       "      <th>sig3</th>\n",
       "      <th>sig4</th>\n",
       "      <th>sig5</th>\n",
       "      <th>sig6</th>\n",
       "      <th>sig7</th>\n",
       "      <th>sig8</th>\n",
       "      <th>relevance</th>\n",
       "      <th>id</th>\n",
       "    </tr>\n",
       "  </thead>\n",
       "  <tbody>\n",
       "    <tr>\n",
       "      <th>0</th>\n",
       "      <td>4631</td>\n",
       "      <td>28624</td>\n",
       "      <td>2</td>\n",
       "      <td>1</td>\n",
       "      <td>0.09</td>\n",
       "      <td>0.15</td>\n",
       "      <td>1288</td>\n",
       "      <td>352</td>\n",
       "      <td>376</td>\n",
       "      <td>13</td>\n",
       "      <td>0.46</td>\n",
       "      <td>0.35</td>\n",
       "      <td>0</td>\n",
       "      <td>4631.286240</td>\n",
       "    </tr>\n",
       "    <tr>\n",
       "      <th>1</th>\n",
       "      <td>4631</td>\n",
       "      <td>28625</td>\n",
       "      <td>2</td>\n",
       "      <td>1</td>\n",
       "      <td>0.20</td>\n",
       "      <td>0.35</td>\n",
       "      <td>4662</td>\n",
       "      <td>337</td>\n",
       "      <td>666</td>\n",
       "      <td>28</td>\n",
       "      <td>0.43</td>\n",
       "      <td>0.27</td>\n",
       "      <td>1</td>\n",
       "      <td>4631.286250</td>\n",
       "    </tr>\n",
       "    <tr>\n",
       "      <th>2</th>\n",
       "      <td>4631</td>\n",
       "      <td>28626</td>\n",
       "      <td>2</td>\n",
       "      <td>1</td>\n",
       "      <td>0.36</td>\n",
       "      <td>0.49</td>\n",
       "      <td>1121</td>\n",
       "      <td>385</td>\n",
       "      <td>270</td>\n",
       "      <td>15</td>\n",
       "      <td>0.34</td>\n",
       "      <td>0.20</td>\n",
       "      <td>1</td>\n",
       "      <td>4631.286260</td>\n",
       "    </tr>\n",
       "    <tr>\n",
       "      <th>3</th>\n",
       "      <td>4631</td>\n",
       "      <td>28627</td>\n",
       "      <td>2</td>\n",
       "      <td>1</td>\n",
       "      <td>0.21</td>\n",
       "      <td>0.45</td>\n",
       "      <td>2925</td>\n",
       "      <td>478</td>\n",
       "      <td>640</td>\n",
       "      <td>14</td>\n",
       "      <td>0.44</td>\n",
       "      <td>0.33</td>\n",
       "      <td>1</td>\n",
       "      <td>4631.286270</td>\n",
       "    </tr>\n",
       "    <tr>\n",
       "      <th>4</th>\n",
       "      <td>4631</td>\n",
       "      <td>28628</td>\n",
       "      <td>2</td>\n",
       "      <td>1</td>\n",
       "      <td>0.25</td>\n",
       "      <td>0.42</td>\n",
       "      <td>1328</td>\n",
       "      <td>429</td>\n",
       "      <td>412</td>\n",
       "      <td>27</td>\n",
       "      <td>0.40</td>\n",
       "      <td>0.57</td>\n",
       "      <td>1</td>\n",
       "      <td>4631.286280</td>\n",
       "    </tr>\n",
       "    <tr>\n",
       "      <th>...</th>\n",
       "      <td>...</td>\n",
       "      <td>...</td>\n",
       "      <td>...</td>\n",
       "      <td>...</td>\n",
       "      <td>...</td>\n",
       "      <td>...</td>\n",
       "      <td>...</td>\n",
       "      <td>...</td>\n",
       "      <td>...</td>\n",
       "      <td>...</td>\n",
       "      <td>...</td>\n",
       "      <td>...</td>\n",
       "      <td>...</td>\n",
       "      <td>...</td>\n",
       "    </tr>\n",
       "    <tr>\n",
       "      <th>80041</th>\n",
       "      <td>17038</td>\n",
       "      <td>102812</td>\n",
       "      <td>1</td>\n",
       "      <td>0</td>\n",
       "      <td>0.13</td>\n",
       "      <td>0.29</td>\n",
       "      <td>10</td>\n",
       "      <td>7</td>\n",
       "      <td>10</td>\n",
       "      <td>0</td>\n",
       "      <td>0.25</td>\n",
       "      <td>0.79</td>\n",
       "      <td>0</td>\n",
       "      <td>17038.102812</td>\n",
       "    </tr>\n",
       "    <tr>\n",
       "      <th>80042</th>\n",
       "      <td>17038</td>\n",
       "      <td>102813</td>\n",
       "      <td>1</td>\n",
       "      <td>0</td>\n",
       "      <td>0.12</td>\n",
       "      <td>0.20</td>\n",
       "      <td>121</td>\n",
       "      <td>0</td>\n",
       "      <td>46</td>\n",
       "      <td>1</td>\n",
       "      <td>0.30</td>\n",
       "      <td>0.50</td>\n",
       "      <td>0</td>\n",
       "      <td>17038.102813</td>\n",
       "    </tr>\n",
       "    <tr>\n",
       "      <th>80043</th>\n",
       "      <td>17038</td>\n",
       "      <td>102814</td>\n",
       "      <td>1</td>\n",
       "      <td>0</td>\n",
       "      <td>0.04</td>\n",
       "      <td>0.37</td>\n",
       "      <td>179</td>\n",
       "      <td>15</td>\n",
       "      <td>92</td>\n",
       "      <td>0</td>\n",
       "      <td>0.32</td>\n",
       "      <td>0.42</td>\n",
       "      <td>0</td>\n",
       "      <td>17038.102814</td>\n",
       "    </tr>\n",
       "    <tr>\n",
       "      <th>80044</th>\n",
       "      <td>17038</td>\n",
       "      <td>102815</td>\n",
       "      <td>1</td>\n",
       "      <td>0</td>\n",
       "      <td>0.22</td>\n",
       "      <td>0.50</td>\n",
       "      <td>643</td>\n",
       "      <td>223</td>\n",
       "      <td>114</td>\n",
       "      <td>10</td>\n",
       "      <td>0.32</td>\n",
       "      <td>0.86</td>\n",
       "      <td>1</td>\n",
       "      <td>17038.102815</td>\n",
       "    </tr>\n",
       "    <tr>\n",
       "      <th>80045</th>\n",
       "      <td>17038</td>\n",
       "      <td>102816</td>\n",
       "      <td>1</td>\n",
       "      <td>0</td>\n",
       "      <td>0.38</td>\n",
       "      <td>0.37</td>\n",
       "      <td>937</td>\n",
       "      <td>145</td>\n",
       "      <td>130</td>\n",
       "      <td>15</td>\n",
       "      <td>0.47</td>\n",
       "      <td>0.89</td>\n",
       "      <td>1</td>\n",
       "      <td>17038.102816</td>\n",
       "    </tr>\n",
       "  </tbody>\n",
       "</table>\n",
       "<p>80046 rows × 14 columns</p>\n",
       "</div>"
      ],
      "text/plain": [
       "       query_id  url_id  query_length  is_homepage  sig1  sig2  sig3  sig4  \\\n",
       "0          4631   28624             2            1  0.09  0.15  1288   352   \n",
       "1          4631   28625             2            1  0.20  0.35  4662   337   \n",
       "2          4631   28626             2            1  0.36  0.49  1121   385   \n",
       "3          4631   28627             2            1  0.21  0.45  2925   478   \n",
       "4          4631   28628             2            1  0.25  0.42  1328   429   \n",
       "...         ...     ...           ...          ...   ...   ...   ...   ...   \n",
       "80041     17038  102812             1            0  0.13  0.29    10     7   \n",
       "80042     17038  102813             1            0  0.12  0.20   121     0   \n",
       "80043     17038  102814             1            0  0.04  0.37   179    15   \n",
       "80044     17038  102815             1            0  0.22  0.50   643   223   \n",
       "80045     17038  102816             1            0  0.38  0.37   937   145   \n",
       "\n",
       "       sig5  sig6  sig7  sig8  relevance            id  \n",
       "0       376    13  0.46  0.35          0   4631.286240  \n",
       "1       666    28  0.43  0.27          1   4631.286250  \n",
       "2       270    15  0.34  0.20          1   4631.286260  \n",
       "3       640    14  0.44  0.33          1   4631.286270  \n",
       "4       412    27  0.40  0.57          1   4631.286280  \n",
       "...     ...   ...   ...   ...        ...           ...  \n",
       "80041    10     0  0.25  0.79          0  17038.102812  \n",
       "80042    46     1  0.30  0.50          0  17038.102813  \n",
       "80043    92     0  0.32  0.42          0  17038.102814  \n",
       "80044   114    10  0.32  0.86          1  17038.102815  \n",
       "80045   130    15  0.47  0.89          1  17038.102816  \n",
       "\n",
       "[80046 rows x 14 columns]"
      ]
     },
     "execution_count": 38,
     "metadata": {},
     "output_type": "execute_result"
    }
   ],
   "source": [
    "raw = pd.read_csv(\"training.csv\")\n",
    "raw"
   ]
  },
  {
   "cell_type": "markdown",
   "id": "0f1389eb-c8ff-436c-805b-f33d13322c9d",
   "metadata": {},
   "source": [
    "## 2. Exploratory data analysis"
   ]
  },
  {
   "cell_type": "markdown",
   "id": "e57376c0-e324-4674-8690-959549ba6caa",
   "metadata": {},
   "source": [
    "**Check if there are missing data.**"
   ]
  },
  {
   "cell_type": "code",
   "execution_count": 39,
   "id": "5f1f56a9-00bb-4804-8668-194977b60550",
   "metadata": {},
   "outputs": [
    {
     "data": {
      "text/plain": [
       "query_id        0\n",
       "url_id          0\n",
       "query_length    0\n",
       "is_homepage     0\n",
       "sig1            0\n",
       "sig2            0\n",
       "sig3            0\n",
       "sig4            0\n",
       "sig5            0\n",
       "sig6            0\n",
       "sig7            0\n",
       "sig8            0\n",
       "relevance       0\n",
       "id              0\n",
       "dtype: int64"
      ]
     },
     "execution_count": 39,
     "metadata": {},
     "output_type": "execute_result"
    }
   ],
   "source": [
    "raw.isnull().sum()"
   ]
  },
  {
   "cell_type": "markdown",
   "id": "2deb4aaa-8cc2-4eca-bd3b-a57301b36d74",
   "metadata": {},
   "source": [
    "No missing data."
   ]
  },
  {
   "cell_type": "markdown",
   "id": "bf6000f1-cbf0-4f2b-9bc8-6f3d814ec3ef",
   "metadata": {},
   "source": [
    "**Check duplicates**"
   ]
  },
  {
   "cell_type": "code",
   "execution_count": 40,
   "id": "e65d1f66-7817-4bd9-a986-7d66512aea70",
   "metadata": {},
   "outputs": [
    {
     "data": {
      "text/plain": [
       "0"
      ]
     },
     "execution_count": 40,
     "metadata": {},
     "output_type": "execute_result"
    }
   ],
   "source": [
    "duplicates = raw.duplicated()\n",
    "num_duplicates = duplicates.sum()\n",
    "num_duplicates"
   ]
  },
  {
   "cell_type": "markdown",
   "id": "ce70237d-198c-41b8-bb01-9553782f99a7",
   "metadata": {},
   "source": [
    "No duplicates"
   ]
  },
  {
   "cell_type": "markdown",
   "id": "03fb3d97-3c7f-4a15-b7e1-cc86393bc281",
   "metadata": {},
   "source": [
    "## 3. Declare predictors and target variable."
   ]
  },
  {
   "cell_type": "code",
   "execution_count": 41,
   "id": "4c57b7f4-eb37-4579-bb60-5be70614c4cb",
   "metadata": {},
   "outputs": [],
   "source": [
    "X = raw.drop(['relevance', 'query_id', 'url_id', 'id'], axis=1)\n",
    "y = raw['relevance']"
   ]
  },
  {
   "cell_type": "markdown",
   "id": "ce49f92f-7668-4b7e-ba53-e85a3cb87698",
   "metadata": {},
   "source": [
    "## 4. Scale the predictors"
   ]
  },
  {
   "cell_type": "code",
   "execution_count": 42,
   "id": "e21c9204-87d5-4e06-8b13-e4216be5c2dc",
   "metadata": {},
   "outputs": [
    {
     "data": {
      "text/html": [
       "<div>\n",
       "<style scoped>\n",
       "    .dataframe tbody tr th:only-of-type {\n",
       "        vertical-align: middle;\n",
       "    }\n",
       "\n",
       "    .dataframe tbody tr th {\n",
       "        vertical-align: top;\n",
       "    }\n",
       "\n",
       "    .dataframe thead th {\n",
       "        text-align: right;\n",
       "    }\n",
       "</style>\n",
       "<table border=\"1\" class=\"dataframe\">\n",
       "  <thead>\n",
       "    <tr style=\"text-align: right;\">\n",
       "      <th></th>\n",
       "      <th>query_length</th>\n",
       "      <th>is_homepage</th>\n",
       "      <th>sig1</th>\n",
       "      <th>sig2</th>\n",
       "      <th>sig3</th>\n",
       "      <th>sig4</th>\n",
       "      <th>sig5</th>\n",
       "      <th>sig6</th>\n",
       "      <th>sig7</th>\n",
       "      <th>sig8</th>\n",
       "    </tr>\n",
       "  </thead>\n",
       "  <tbody>\n",
       "    <tr>\n",
       "      <th>count</th>\n",
       "      <td>8.004600e+04</td>\n",
       "      <td>8.004600e+04</td>\n",
       "      <td>8.004600e+04</td>\n",
       "      <td>8.004600e+04</td>\n",
       "      <td>8.004600e+04</td>\n",
       "      <td>8.004600e+04</td>\n",
       "      <td>8.004600e+04</td>\n",
       "      <td>8.004600e+04</td>\n",
       "      <td>8.004600e+04</td>\n",
       "      <td>8.004600e+04</td>\n",
       "    </tr>\n",
       "    <tr>\n",
       "      <th>mean</th>\n",
       "      <td>-5.254995e-17</td>\n",
       "      <td>4.970941e-17</td>\n",
       "      <td>1.185924e-16</td>\n",
       "      <td>5.592308e-17</td>\n",
       "      <td>-8.521613e-18</td>\n",
       "      <td>-3.550672e-18</td>\n",
       "      <td>1.136215e-17</td>\n",
       "      <td>1.491282e-17</td>\n",
       "      <td>-2.272430e-17</td>\n",
       "      <td>1.768235e-16</td>\n",
       "    </tr>\n",
       "    <tr>\n",
       "      <th>std</th>\n",
       "      <td>1.000006e+00</td>\n",
       "      <td>1.000006e+00</td>\n",
       "      <td>1.000006e+00</td>\n",
       "      <td>1.000006e+00</td>\n",
       "      <td>1.000006e+00</td>\n",
       "      <td>1.000006e+00</td>\n",
       "      <td>1.000006e+00</td>\n",
       "      <td>1.000006e+00</td>\n",
       "      <td>1.000006e+00</td>\n",
       "      <td>1.000006e+00</td>\n",
       "    </tr>\n",
       "    <tr>\n",
       "      <th>min</th>\n",
       "      <td>-1.041878e+00</td>\n",
       "      <td>-6.065367e-01</td>\n",
       "      <td>-1.243548e+00</td>\n",
       "      <td>-2.010775e+00</td>\n",
       "      <td>-2.064047e-01</td>\n",
       "      <td>-1.540609e-01</td>\n",
       "      <td>-2.916050e-01</td>\n",
       "      <td>-1.565392e-01</td>\n",
       "      <td>-2.304098e+00</td>\n",
       "      <td>-2.039932e+00</td>\n",
       "    </tr>\n",
       "    <tr>\n",
       "      <th>25%</th>\n",
       "      <td>-3.848838e-01</td>\n",
       "      <td>-6.065367e-01</td>\n",
       "      <td>-7.006331e-01</td>\n",
       "      <td>-7.936921e-01</td>\n",
       "      <td>-2.030900e-01</td>\n",
       "      <td>-1.490800e-01</td>\n",
       "      <td>-2.863082e-01</td>\n",
       "      <td>-1.565392e-01</td>\n",
       "      <td>-7.173708e-01</td>\n",
       "      <td>-7.861737e-01</td>\n",
       "    </tr>\n",
       "    <tr>\n",
       "      <th>50%</th>\n",
       "      <td>-3.848838e-01</td>\n",
       "      <td>-6.065367e-01</td>\n",
       "      <td>-2.255822e-01</td>\n",
       "      <td>-4.026011e-02</td>\n",
       "      <td>-1.886840e-01</td>\n",
       "      <td>-1.084019e-01</td>\n",
       "      <td>-2.577053e-01</td>\n",
       "      <td>-1.565392e-01</td>\n",
       "      <td>-6.825495e-02</td>\n",
       "      <td>-5.121198e-02</td>\n",
       "    </tr>\n",
       "    <tr>\n",
       "      <th>75%</th>\n",
       "      <td>2.721100e-01</td>\n",
       "      <td>1.648705e+00</td>\n",
       "      <td>3.851975e-01</td>\n",
       "      <td>7.711282e-01</td>\n",
       "      <td>-9.856135e-02</td>\n",
       "      <td>-3.140430e-02</td>\n",
       "      <td>-1.136316e-01</td>\n",
       "      <td>-1.343338e-01</td>\n",
       "      <td>7.251088e-01</td>\n",
       "      <td>7.269828e-01</td>\n",
       "    </tr>\n",
       "    <tr>\n",
       "      <th>max</th>\n",
       "      <td>1.012702e+01</td>\n",
       "      <td>1.648705e+00</td>\n",
       "      <td>5.542893e+00</td>\n",
       "      <td>2.973468e+00</td>\n",
       "      <td>2.842023e+01</td>\n",
       "      <td>1.370178e+02</td>\n",
       "      <td>2.460031e+01</td>\n",
       "      <td>4.031295e+01</td>\n",
       "      <td>4.042812e+00</td>\n",
       "      <td>2.023974e+00</td>\n",
       "    </tr>\n",
       "  </tbody>\n",
       "</table>\n",
       "</div>"
      ],
      "text/plain": [
       "       query_length   is_homepage          sig1          sig2          sig3  \\\n",
       "count  8.004600e+04  8.004600e+04  8.004600e+04  8.004600e+04  8.004600e+04   \n",
       "mean  -5.254995e-17  4.970941e-17  1.185924e-16  5.592308e-17 -8.521613e-18   \n",
       "std    1.000006e+00  1.000006e+00  1.000006e+00  1.000006e+00  1.000006e+00   \n",
       "min   -1.041878e+00 -6.065367e-01 -1.243548e+00 -2.010775e+00 -2.064047e-01   \n",
       "25%   -3.848838e-01 -6.065367e-01 -7.006331e-01 -7.936921e-01 -2.030900e-01   \n",
       "50%   -3.848838e-01 -6.065367e-01 -2.255822e-01 -4.026011e-02 -1.886840e-01   \n",
       "75%    2.721100e-01  1.648705e+00  3.851975e-01  7.711282e-01 -9.856135e-02   \n",
       "max    1.012702e+01  1.648705e+00  5.542893e+00  2.973468e+00  2.842023e+01   \n",
       "\n",
       "               sig4          sig5          sig6          sig7          sig8  \n",
       "count  8.004600e+04  8.004600e+04  8.004600e+04  8.004600e+04  8.004600e+04  \n",
       "mean  -3.550672e-18  1.136215e-17  1.491282e-17 -2.272430e-17  1.768235e-16  \n",
       "std    1.000006e+00  1.000006e+00  1.000006e+00  1.000006e+00  1.000006e+00  \n",
       "min   -1.540609e-01 -2.916050e-01 -1.565392e-01 -2.304098e+00 -2.039932e+00  \n",
       "25%   -1.490800e-01 -2.863082e-01 -1.565392e-01 -7.173708e-01 -7.861737e-01  \n",
       "50%   -1.084019e-01 -2.577053e-01 -1.565392e-01 -6.825495e-02 -5.121198e-02  \n",
       "75%   -3.140430e-02 -1.136316e-01 -1.343338e-01  7.251088e-01  7.269828e-01  \n",
       "max    1.370178e+02  2.460031e+01  4.031295e+01  4.042812e+00  2.023974e+00  "
      ]
     },
     "execution_count": 42,
     "metadata": {},
     "output_type": "execute_result"
    }
   ],
   "source": [
    "scaler = StandardScaler()\n",
    "X_scaled = scaler.fit_transform(X)\n",
    "X_scaled = pd.DataFrame(X_scaled, columns = X.columns)\n",
    "X_scaled.describe()"
   ]
  },
  {
   "cell_type": "markdown",
   "id": "92dea851-b5fc-422b-85dc-80ad022faa70",
   "metadata": {},
   "source": [
    "## 5. Split the data"
   ]
  },
  {
   "cell_type": "code",
   "execution_count": 43,
   "id": "6458dbe7-57e8-44a7-b19a-1e53f857c55c",
   "metadata": {},
   "outputs": [],
   "source": [
    "from sklearn.model_selection import train_test_split\n",
    "\n",
    "X_train, X_test, y_train, y_test = train_test_split(X_scaled, y, test_size = 0.8, random_state = 0)"
   ]
  },
  {
   "cell_type": "markdown",
   "id": "d14e83fa-1bc6-421b-9789-0f3e3c088233",
   "metadata": {},
   "source": [
    "## 6. Run SVM with default hyperparameters"
   ]
  },
  {
   "cell_type": "code",
   "execution_count": 44,
   "id": "5adfeef8-b984-4426-a49d-00e464e1bf2a",
   "metadata": {},
   "outputs": [
    {
     "name": "stdout",
     "output_type": "stream",
     "text": [
      "Model accuracy score with default hyperparameters: 0.6564\n"
     ]
    }
   ],
   "source": [
    "svc=SVC() \n",
    "svc.fit(X_train,y_train)\n",
    "y_pred=svc.predict(X_test)\n",
    "print('Model accuracy score with default hyperparameters: {0:0.4f}'. format(accuracy_score(y_test, y_pred)))"
   ]
  },
  {
   "cell_type": "markdown",
   "id": "e8686d01-a38f-4153-86ff-4ca001bf9228",
   "metadata": {},
   "source": [
    "## 7. Run SVM with linear kernel"
   ]
  },
  {
   "cell_type": "code",
   "execution_count": 45,
   "id": "76dd308c-baa3-4978-9dcd-903255a20e7a",
   "metadata": {},
   "outputs": [
    {
     "data": {
      "text/plain": [
       "10.0"
      ]
     },
     "execution_count": 45,
     "metadata": {},
     "output_type": "execute_result"
    }
   ],
   "source": [
    "svm_linear = SVC(C = 0.01, kernel = 'linear')\n",
    "svm_linear.fit(X_train, y_train)\n",
    "para_grid = {'C': np.logspace(-2, 1, 10)}\n",
    "kfold = skm.KFold(5, \n",
    "                  random_state=0,\n",
    "                  shuffle=True)\n",
    "grid = skm.GridSearchCV(svc,\n",
    "                        para_grid,\n",
    "                        refit=True,\n",
    "                        cv = kfold,\n",
    "                        scoring='accuracy');\n",
    "grid.fit(X_train, y_train)\n",
    "best_c = grid.best_params_['C']\n",
    "best_c"
   ]
  },
  {
   "cell_type": "code",
   "execution_count": 46,
   "id": "55779834-823a-4f17-b59d-e3473e3d10bd",
   "metadata": {},
   "outputs": [
    {
     "data": {
      "text/html": [
       "<style>#sk-container-id-2 {color: black;background-color: white;}#sk-container-id-2 pre{padding: 0;}#sk-container-id-2 div.sk-toggleable {background-color: white;}#sk-container-id-2 label.sk-toggleable__label {cursor: pointer;display: block;width: 100%;margin-bottom: 0;padding: 0.3em;box-sizing: border-box;text-align: center;}#sk-container-id-2 label.sk-toggleable__label-arrow:before {content: \"▸\";float: left;margin-right: 0.25em;color: #696969;}#sk-container-id-2 label.sk-toggleable__label-arrow:hover:before {color: black;}#sk-container-id-2 div.sk-estimator:hover label.sk-toggleable__label-arrow:before {color: black;}#sk-container-id-2 div.sk-toggleable__content {max-height: 0;max-width: 0;overflow: hidden;text-align: left;background-color: #f0f8ff;}#sk-container-id-2 div.sk-toggleable__content pre {margin: 0.2em;color: black;border-radius: 0.25em;background-color: #f0f8ff;}#sk-container-id-2 input.sk-toggleable__control:checked~div.sk-toggleable__content {max-height: 200px;max-width: 100%;overflow: auto;}#sk-container-id-2 input.sk-toggleable__control:checked~label.sk-toggleable__label-arrow:before {content: \"▾\";}#sk-container-id-2 div.sk-estimator input.sk-toggleable__control:checked~label.sk-toggleable__label {background-color: #d4ebff;}#sk-container-id-2 div.sk-label input.sk-toggleable__control:checked~label.sk-toggleable__label {background-color: #d4ebff;}#sk-container-id-2 input.sk-hidden--visually {border: 0;clip: rect(1px 1px 1px 1px);clip: rect(1px, 1px, 1px, 1px);height: 1px;margin: -1px;overflow: hidden;padding: 0;position: absolute;width: 1px;}#sk-container-id-2 div.sk-estimator {font-family: monospace;background-color: #f0f8ff;border: 1px dotted black;border-radius: 0.25em;box-sizing: border-box;margin-bottom: 0.5em;}#sk-container-id-2 div.sk-estimator:hover {background-color: #d4ebff;}#sk-container-id-2 div.sk-parallel-item::after {content: \"\";width: 100%;border-bottom: 1px solid gray;flex-grow: 1;}#sk-container-id-2 div.sk-label:hover label.sk-toggleable__label {background-color: #d4ebff;}#sk-container-id-2 div.sk-serial::before {content: \"\";position: absolute;border-left: 1px solid gray;box-sizing: border-box;top: 0;bottom: 0;left: 50%;z-index: 0;}#sk-container-id-2 div.sk-serial {display: flex;flex-direction: column;align-items: center;background-color: white;padding-right: 0.2em;padding-left: 0.2em;position: relative;}#sk-container-id-2 div.sk-item {position: relative;z-index: 1;}#sk-container-id-2 div.sk-parallel {display: flex;align-items: stretch;justify-content: center;background-color: white;position: relative;}#sk-container-id-2 div.sk-item::before, #sk-container-id-2 div.sk-parallel-item::before {content: \"\";position: absolute;border-left: 1px solid gray;box-sizing: border-box;top: 0;bottom: 0;left: 50%;z-index: -1;}#sk-container-id-2 div.sk-parallel-item {display: flex;flex-direction: column;z-index: 1;position: relative;background-color: white;}#sk-container-id-2 div.sk-parallel-item:first-child::after {align-self: flex-end;width: 50%;}#sk-container-id-2 div.sk-parallel-item:last-child::after {align-self: flex-start;width: 50%;}#sk-container-id-2 div.sk-parallel-item:only-child::after {width: 0;}#sk-container-id-2 div.sk-dashed-wrapped {border: 1px dashed gray;margin: 0 0.4em 0.5em 0.4em;box-sizing: border-box;padding-bottom: 0.4em;background-color: white;}#sk-container-id-2 div.sk-label label {font-family: monospace;font-weight: bold;display: inline-block;line-height: 1.2em;}#sk-container-id-2 div.sk-label-container {text-align: center;}#sk-container-id-2 div.sk-container {/* jupyter's `normalize.less` sets `[hidden] { display: none; }` but bootstrap.min.css set `[hidden] { display: none !important; }` so we also need the `!important` here to be able to override the default hidden behavior on the sphinx rendered scikit-learn.org. See: https://github.com/scikit-learn/scikit-learn/issues/21755 */display: inline-block !important;position: relative;}#sk-container-id-2 div.sk-text-repr-fallback {display: none;}</style><div id=\"sk-container-id-2\" class=\"sk-top-container\"><div class=\"sk-text-repr-fallback\"><pre>SVC(C=10.0, kernel=&#x27;linear&#x27;)</pre><b>In a Jupyter environment, please rerun this cell to show the HTML representation or trust the notebook. <br />On GitHub, the HTML representation is unable to render, please try loading this page with nbviewer.org.</b></div><div class=\"sk-container\" hidden><div class=\"sk-item\"><div class=\"sk-estimator sk-toggleable\"><input class=\"sk-toggleable__control sk-hidden--visually\" id=\"sk-estimator-id-2\" type=\"checkbox\" checked><label for=\"sk-estimator-id-2\" class=\"sk-toggleable__label sk-toggleable__label-arrow\">SVC</label><div class=\"sk-toggleable__content\"><pre>SVC(C=10.0, kernel=&#x27;linear&#x27;)</pre></div></div></div></div></div>"
      ],
      "text/plain": [
       "SVC(C=10.0, kernel='linear')"
      ]
     },
     "execution_count": 46,
     "metadata": {},
     "output_type": "execute_result"
    }
   ],
   "source": [
    "svm_optimalC = SVC(C = best_c, kernel = 'linear')\n",
    "svm_optimalC.fit(X_train, y_train)"
   ]
  },
  {
   "cell_type": "code",
   "execution_count": 47,
   "id": "7ee2fd20-e144-4c32-8c52-51a7a0d38dd5",
   "metadata": {},
   "outputs": [
    {
     "data": {
      "text/html": [
       "<div>\n",
       "<style scoped>\n",
       "    .dataframe tbody tr th:only-of-type {\n",
       "        vertical-align: middle;\n",
       "    }\n",
       "\n",
       "    .dataframe tbody tr th {\n",
       "        vertical-align: top;\n",
       "    }\n",
       "\n",
       "    .dataframe thead th {\n",
       "        text-align: right;\n",
       "    }\n",
       "</style>\n",
       "<table border=\"1\" class=\"dataframe\">\n",
       "  <thead>\n",
       "    <tr style=\"text-align: right;\">\n",
       "      <th>Truth</th>\n",
       "      <th>0</th>\n",
       "      <th>1</th>\n",
       "    </tr>\n",
       "    <tr>\n",
       "      <th>Predicted</th>\n",
       "      <th></th>\n",
       "      <th></th>\n",
       "    </tr>\n",
       "  </thead>\n",
       "  <tbody>\n",
       "    <tr>\n",
       "      <th>0</th>\n",
       "      <td>7144</td>\n",
       "      <td>3775</td>\n",
       "    </tr>\n",
       "    <tr>\n",
       "      <th>1</th>\n",
       "      <td>1825</td>\n",
       "      <td>3265</td>\n",
       "    </tr>\n",
       "  </tbody>\n",
       "</table>\n",
       "</div>"
      ],
      "text/plain": [
       "Truth         0     1\n",
       "Predicted            \n",
       "0          7144  3775\n",
       "1          1825  3265"
      ]
     },
     "execution_count": 47,
     "metadata": {},
     "output_type": "execute_result"
    }
   ],
   "source": [
    "y_train_hat = svm_optimalC.predict(X_train)\n",
    "confusion_table(y_train_hat, y_train)"
   ]
  },
  {
   "cell_type": "code",
   "execution_count": 48,
   "id": "4be33e2d-e914-487a-9c93-4ec167501ccc",
   "metadata": {},
   "outputs": [
    {
     "name": "stdout",
     "output_type": "stream",
     "text": [
      "Model accuracy score with linear kernel: 0.6547\n"
     ]
    }
   ],
   "source": [
    "y_pred_test = svm_optimalC.predict(X_test)\n",
    "print('Model accuracy score with linear kernel: {0:0.4f}'. format(accuracy_score(y_test, y_pred_test)))"
   ]
  },
  {
   "cell_type": "markdown",
   "id": "7f5bcd21-a6ed-4484-b301-c6e88c40bbeb",
   "metadata": {},
   "source": [
    "## 8. Run SVM with rbf kernel"
   ]
  },
  {
   "cell_type": "code",
   "execution_count": 74,
   "id": "b4a1074d-1e7f-4397-b8fe-888b65ee2570",
   "metadata": {},
   "outputs": [
    {
     "data": {
      "text/plain": [
       "10.0"
      ]
     },
     "execution_count": 74,
     "metadata": {},
     "output_type": "execute_result"
    }
   ],
   "source": [
    "svm_rbf = SVC(C = 0.01, kernel = 'rbf')\n",
    "svm_rbf.fit(X_train, y_train)\n",
    "grid = skm.GridSearchCV(svm_rbf,\n",
    "                        para_grid,\n",
    "                        refit = True,\n",
    "                        cv = kfold,\n",
    "                        scoring='accuracy');\n",
    "grid.fit(X_train, y_train)\n",
    "best_c = grid.best_params_['C']\n",
    "best_c"
   ]
  },
  {
   "cell_type": "code",
   "execution_count": 75,
   "id": "d0e0c3ac-8025-4efe-8cf4-27674b6fb708",
   "metadata": {},
   "outputs": [
    {
     "data": {
      "text/html": [
       "<style>#sk-container-id-7 {color: black;background-color: white;}#sk-container-id-7 pre{padding: 0;}#sk-container-id-7 div.sk-toggleable {background-color: white;}#sk-container-id-7 label.sk-toggleable__label {cursor: pointer;display: block;width: 100%;margin-bottom: 0;padding: 0.3em;box-sizing: border-box;text-align: center;}#sk-container-id-7 label.sk-toggleable__label-arrow:before {content: \"▸\";float: left;margin-right: 0.25em;color: #696969;}#sk-container-id-7 label.sk-toggleable__label-arrow:hover:before {color: black;}#sk-container-id-7 div.sk-estimator:hover label.sk-toggleable__label-arrow:before {color: black;}#sk-container-id-7 div.sk-toggleable__content {max-height: 0;max-width: 0;overflow: hidden;text-align: left;background-color: #f0f8ff;}#sk-container-id-7 div.sk-toggleable__content pre {margin: 0.2em;color: black;border-radius: 0.25em;background-color: #f0f8ff;}#sk-container-id-7 input.sk-toggleable__control:checked~div.sk-toggleable__content {max-height: 200px;max-width: 100%;overflow: auto;}#sk-container-id-7 input.sk-toggleable__control:checked~label.sk-toggleable__label-arrow:before {content: \"▾\";}#sk-container-id-7 div.sk-estimator input.sk-toggleable__control:checked~label.sk-toggleable__label {background-color: #d4ebff;}#sk-container-id-7 div.sk-label input.sk-toggleable__control:checked~label.sk-toggleable__label {background-color: #d4ebff;}#sk-container-id-7 input.sk-hidden--visually {border: 0;clip: rect(1px 1px 1px 1px);clip: rect(1px, 1px, 1px, 1px);height: 1px;margin: -1px;overflow: hidden;padding: 0;position: absolute;width: 1px;}#sk-container-id-7 div.sk-estimator {font-family: monospace;background-color: #f0f8ff;border: 1px dotted black;border-radius: 0.25em;box-sizing: border-box;margin-bottom: 0.5em;}#sk-container-id-7 div.sk-estimator:hover {background-color: #d4ebff;}#sk-container-id-7 div.sk-parallel-item::after {content: \"\";width: 100%;border-bottom: 1px solid gray;flex-grow: 1;}#sk-container-id-7 div.sk-label:hover label.sk-toggleable__label {background-color: #d4ebff;}#sk-container-id-7 div.sk-serial::before {content: \"\";position: absolute;border-left: 1px solid gray;box-sizing: border-box;top: 0;bottom: 0;left: 50%;z-index: 0;}#sk-container-id-7 div.sk-serial {display: flex;flex-direction: column;align-items: center;background-color: white;padding-right: 0.2em;padding-left: 0.2em;position: relative;}#sk-container-id-7 div.sk-item {position: relative;z-index: 1;}#sk-container-id-7 div.sk-parallel {display: flex;align-items: stretch;justify-content: center;background-color: white;position: relative;}#sk-container-id-7 div.sk-item::before, #sk-container-id-7 div.sk-parallel-item::before {content: \"\";position: absolute;border-left: 1px solid gray;box-sizing: border-box;top: 0;bottom: 0;left: 50%;z-index: -1;}#sk-container-id-7 div.sk-parallel-item {display: flex;flex-direction: column;z-index: 1;position: relative;background-color: white;}#sk-container-id-7 div.sk-parallel-item:first-child::after {align-self: flex-end;width: 50%;}#sk-container-id-7 div.sk-parallel-item:last-child::after {align-self: flex-start;width: 50%;}#sk-container-id-7 div.sk-parallel-item:only-child::after {width: 0;}#sk-container-id-7 div.sk-dashed-wrapped {border: 1px dashed gray;margin: 0 0.4em 0.5em 0.4em;box-sizing: border-box;padding-bottom: 0.4em;background-color: white;}#sk-container-id-7 div.sk-label label {font-family: monospace;font-weight: bold;display: inline-block;line-height: 1.2em;}#sk-container-id-7 div.sk-label-container {text-align: center;}#sk-container-id-7 div.sk-container {/* jupyter's `normalize.less` sets `[hidden] { display: none; }` but bootstrap.min.css set `[hidden] { display: none !important; }` so we also need the `!important` here to be able to override the default hidden behavior on the sphinx rendered scikit-learn.org. See: https://github.com/scikit-learn/scikit-learn/issues/21755 */display: inline-block !important;position: relative;}#sk-container-id-7 div.sk-text-repr-fallback {display: none;}</style><div id=\"sk-container-id-7\" class=\"sk-top-container\"><div class=\"sk-text-repr-fallback\"><pre>SVC(C=10.0)</pre><b>In a Jupyter environment, please rerun this cell to show the HTML representation or trust the notebook. <br />On GitHub, the HTML representation is unable to render, please try loading this page with nbviewer.org.</b></div><div class=\"sk-container\" hidden><div class=\"sk-item\"><div class=\"sk-estimator sk-toggleable\"><input class=\"sk-toggleable__control sk-hidden--visually\" id=\"sk-estimator-id-7\" type=\"checkbox\" checked><label for=\"sk-estimator-id-7\" class=\"sk-toggleable__label sk-toggleable__label-arrow\">SVC</label><div class=\"sk-toggleable__content\"><pre>SVC(C=10.0)</pre></div></div></div></div></div>"
      ],
      "text/plain": [
       "SVC(C=10.0)"
      ]
     },
     "execution_count": 75,
     "metadata": {},
     "output_type": "execute_result"
    }
   ],
   "source": [
    "svm_optimalC_rbf = SVC(C = best_c, kernel = 'rbf')\n",
    "svm_optimalC_rbf.fit(X_train, y_train)"
   ]
  },
  {
   "cell_type": "code",
   "execution_count": 52,
   "id": "b9d3bb68-c635-46b9-a318-e76874f6571f",
   "metadata": {},
   "outputs": [
    {
     "name": "stdout",
     "output_type": "stream",
     "text": [
      "Model accuracy score with rbf kernel: 0.6588\n"
     ]
    }
   ],
   "source": [
    "y_pred_test_rbf = svm_optimalC_rbf.predict(X_test)\n",
    "print('Model accuracy score with rbf kernel: {0:0.4f}'. format(accuracy_score(y_test, y_pred_test_rbf)))"
   ]
  },
  {
   "cell_type": "markdown",
   "id": "bbbce6db-b9d1-4008-acb9-d9d59168e095",
   "metadata": {},
   "source": [
    "## 9. Run SVM with polynomial kernel"
   ]
  },
  {
   "cell_type": "code",
   "execution_count": 54,
   "id": "adb9821e-1bcb-449a-b702-445930406c86",
   "metadata": {},
   "outputs": [
    {
     "name": "stdout",
     "output_type": "stream",
     "text": [
      "Best C:  10.0\n",
      "Best degree:  3\n"
     ]
    }
   ],
   "source": [
    "param_grid = {\n",
    "    'C': np.logspace(-2, 1, 10),  # Values of C from 0.001 to 1000\n",
    "    'degree': [2, 3, 4, 5]        # Polynomial degrees\n",
    "}\n",
    "svm_poly = SVC(C = 0.01, kernel = 'poly', degree = 2)\n",
    "svm_poly.fit(X_train, y_train)\n",
    "grid = skm.GridSearchCV(svm_poly,\n",
    "                        param_grid,\n",
    "                        refit = True,\n",
    "                        cv = kfold,\n",
    "                        scoring='accuracy');\n",
    "grid.fit(X_train, y_train)\n",
    "best_c = grid.best_params_['C']\n",
    "best_degree = grid.best_params_['degree']\n",
    "print(\"Best C: \", best_c)\n",
    "print(\"Best degree: \", best_degree)"
   ]
  },
  {
   "cell_type": "code",
   "execution_count": 55,
   "id": "8652c1c4-3bb4-4bc9-a79f-d7c68d20f09c",
   "metadata": {},
   "outputs": [
    {
     "name": "stdout",
     "output_type": "stream",
     "text": [
      "Model accuracy score with polynomial kernel: 0.6370\n"
     ]
    }
   ],
   "source": [
    "svm_optimalC_poly = SVC(C = best_c, kernel = 'poly', degree = best_degree)\n",
    "svm_optimalC_poly.fit(X_train, y_train)\n",
    "y_pred_test_poly = svm_optimalC_poly.predict(X_test)\n",
    "print('Model accuracy score with polynomial kernel: {0:0.4f}'. format(accuracy_score(y_test, y_pred_test_poly)))"
   ]
  },
  {
   "cell_type": "markdown",
   "id": "f85d750c-69b2-47a4-9d78-aeba7c92cdf9",
   "metadata": {},
   "source": [
    "## Prediction"
   ]
  },
  {
   "cell_type": "code",
   "execution_count": 76,
   "id": "c8f9d1b1-1fe9-4f19-9fa2-8a52df9b239d",
   "metadata": {},
   "outputs": [],
   "source": [
    "test_data = pd.read_csv(\"test.csv\")\n",
    "X_true_test = test_data.drop(['query_id', 'url_id', 'id'], axis=1, errors='ignore')\n",
    "X_true_test_scaled = scaler.transform(X_true_test)\n",
    "predictions = svm_optimalC_rbf.predict(X_true_test_scaled)\n",
    "results = pd.DataFrame({\n",
    "    'prediction': predictions,\n",
    "    'id': test_data['id']\n",
    "})\n",
    "\n",
    "results.to_csv(\"predictions_SVM_rbf.csv\", index=False)"
   ]
  },
  {
   "cell_type": "code",
   "execution_count": null,
   "id": "5f893bd2-b363-433a-8425-9ecc731a2b26",
   "metadata": {},
   "outputs": [],
   "source": []
  }
 ],
 "metadata": {
  "kernelspec": {
   "display_name": "Python [conda env:base] *",
   "language": "python",
   "name": "conda-base-py"
  },
  "language_info": {
   "codemirror_mode": {
    "name": "ipython",
    "version": 3
   },
   "file_extension": ".py",
   "mimetype": "text/x-python",
   "name": "python",
   "nbconvert_exporter": "python",
   "pygments_lexer": "ipython3",
   "version": "3.11.7"
  }
 },
 "nbformat": 4,
 "nbformat_minor": 5
}

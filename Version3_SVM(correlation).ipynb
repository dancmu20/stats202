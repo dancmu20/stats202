{
 "cells": [
  {
   "cell_type": "code",
   "execution_count": 3,
   "id": "016c23fa-eec3-4cf9-be16-227cfac45ce2",
   "metadata": {},
   "outputs": [],
   "source": [
    "import pandas as pd\n",
    "from sklearn.preprocessing import StandardScaler, MinMaxScaler, PolynomialFeatures, PowerTransformer\n",
    "import numpy as np\n",
    "from sklearn.svm import SVC\n",
    "from sklearn.model_selection import train_test_split\n",
    "from sklearn.metrics import accuracy_score\n",
    "from sklearn.pipeline import Pipeline"
   ]
  },
  {
   "cell_type": "code",
   "execution_count": 4,
   "id": "a856e0dc-20b5-425b-bc2a-46c1bbc78bfd",
   "metadata": {},
   "outputs": [],
   "source": [
    "transformers = {\n",
    "    'LogTransformer': lambda X: np.log1p(X),\n",
    "    'SquareRootTransformer': lambda X: np.sqrt(X),\n",
    "    'PowerTransformer': PowerTransformer(method='yeo-johnson')\n",
    "}"
   ]
  },
  {
   "cell_type": "code",
   "execution_count": 6,
   "id": "f2a3f8cb-d4f7-4cb3-9937-61a5ec440e1a",
   "metadata": {},
   "outputs": [],
   "source": [
    "raw_train = pd.read_csv(\"training.csv\")\n",
    "X_train = raw_train.drop(['relevance', 'query_id', 'url_id', 'id'], axis=1)\n",
    "y_train = raw_train['relevance']\n",
    "X_train = X_train.drop(['sig5'], axis=1)\n"
   ]
  },
  {
   "cell_type": "code",
   "execution_count": 4,
   "id": "f823a6fd-7529-4d76-b699-b630af21db7d",
   "metadata": {},
   "outputs": [
    {
     "name": "stdout",
     "output_type": "stream",
     "text": [
      "LogTransformer - Accuracy: 0.6678\n",
      "SquareRootTransformer - Accuracy: 0.6674\n",
      "PowerTransformer - Accuracy: 0.6668\n"
     ]
    }
   ],
   "source": [
    "results = []\n",
    "\n",
    "for name, transformer in transformers.items():\n",
    "    # Apply the transformer to the training data\n",
    "    if callable(transformer):\n",
    "        X_train_transformed = transformer(X_train)\n",
    "    else:\n",
    "        X_train_transformed = transformer.fit_transform(X_train)\n",
    "    \n",
    "    # Standardize the transformed training data\n",
    "    scaler = StandardScaler()\n",
    "    X_train_scaled = scaler.fit_transform(X_train_transformed)\n",
    "\n",
    "    # Split the data\n",
    "    X_train_split, X_test_split, y_train_split, y_test_split = train_test_split(X_train_scaled, y_train, test_size=0.2, random_state=0)\n",
    "\n",
    "    # Train an SVM model\n",
    "    svm = SVC(kernel='rbf', C=10.0, gamma='scale')  # Example SVM configuration\n",
    "    svm.fit(X_train_split, y_train_split)\n",
    "\n",
    "    # Evaluate the model\n",
    "    y_pred_split = svm.predict(X_test_split)\n",
    "    accuracy = accuracy_score(y_test_split, y_pred_split)\n",
    "    results.append((name, accuracy))\n",
    "    print(f'{name} - Accuracy: {accuracy:.4f}')"
   ]
  },
  {
   "cell_type": "code",
   "execution_count": 5,
   "id": "9cd0cec8-2737-47f8-b25f-cd42547a7f25",
   "metadata": {},
   "outputs": [],
   "source": [
    "chosen_transformer_name = 'SquareRootTransformer'  # Example: choose 'SquareRootTransformer'\n",
    "chosen_transformer = transformers[chosen_transformer_name]\n",
    "\n",
    "# Apply the chosen transformer to the training data\n",
    "if callable(chosen_transformer):\n",
    "    X_train_sqrt = chosen_transformer(X_train)\n",
    "else:\n",
    "    X_train_sqrt = chosen_transformer.fit_transform(X_train)\n",
    "scaler = StandardScaler()\n",
    "X_train_scaled_sqrt = scaler.fit_transform(X_train_sqrt)\n",
    "\n",
    "svm_sqrt = SVC(kernel='rbf', C=10.0, gamma='scale')\n",
    "svm_sqrt.fit(X_train_scaled_sqrt, y_train)\n",
    "\n",
    "# Load test data\n",
    "raw_test = pd.read_csv(\"test.csv\")\n",
    "X_test = raw_test.drop(['query_id', 'url_id', 'id', 'sig5'], axis=1)\n",
    "\n",
    "if callable(chosen_transformer):\n",
    "    X_test_sqrt = chosen_transformer(X_test)\n",
    "else:\n",
    "    X_test_sqrt = chosen_transformer.transform(X_test)\n",
    "X_test_scaled_sqrt = scaler.transform(X_test_sqrt)\n",
    "\n",
    "y_pred_test_sqrt = svm.predict(X_test_scaled_sqrt)\n",
    "\n",
    "# Create a DataFrame for predictions\n",
    "predictions_df_sqrt = pd.DataFrame({\n",
    "    'predicted_relevance': y_pred_test_sqrt,\n",
    "    'id': raw_test['id'] # Include the 'id' column to match the original test data format\n",
    "})\n",
    "\n",
    "# Save predictions to CSV\n",
    "predictions_df_sqrt.to_csv(\"predictions_sqrt_svm_remove_sig5.csv\", index=False)"
   ]
  },
  {
   "cell_type": "code",
   "execution_count": 6,
   "id": "64f032d7-5afa-4284-865d-25848711e963",
   "metadata": {},
   "outputs": [],
   "source": [
    "chosen_transformer_name = 'LogTransformer'  # Example: choose 'SquareRootTransformer'\n",
    "chosen_transformer = transformers[chosen_transformer_name]\n",
    "\n",
    "# Apply the chosen transformer to the training data\n",
    "if callable(chosen_transformer):\n",
    "    X_train_log = chosen_transformer(X_train)\n",
    "else:\n",
    "    X_train_log = chosen_transformer.fit_transform(X_train)\n",
    "scaler = StandardScaler()\n",
    "X_train_scaled_log = scaler.fit_transform(X_train_log)\n",
    "\n",
    "svm_log = SVC(kernel='rbf', C=10.0, gamma='scale')\n",
    "svm_log.fit(X_train_scaled_log, y_train)\n",
    "\n",
    "# Load test data\n",
    "raw_test = pd.read_csv(\"test.csv\")\n",
    "X_test = raw_test.drop(['query_id', 'url_id', 'id', 'sig5'], axis=1)\n",
    "\n",
    "if callable(chosen_transformer):\n",
    "    X_test_log = chosen_transformer(X_test)\n",
    "else:\n",
    "    X_test_log = chosen_transformer.transform(X_test)\n",
    "X_test_scaled_log = scaler.transform(X_test_log)\n",
    "\n",
    "y_pred_test_log = svm.predict(X_test_scaled_log)\n",
    "\n",
    "# Create a DataFrame for predictions\n",
    "predictions_df_log = pd.DataFrame({\n",
    "    'predicted_relevance': y_pred_test_log,\n",
    "    'id': raw_test['id'] # Include the 'id' column to match the original test data format\n",
    "})\n",
    "\n",
    "# Save predictions to CSV\n",
    "predictions_df_log.to_csv(\"predictions_log_svm_remove_sig5.csv\", index=False)"
   ]
  },
  {
   "cell_type": "code",
   "execution_count": 8,
   "id": "0c4ee012-7d13-4287-a11b-b682eb827722",
   "metadata": {},
   "outputs": [],
   "source": [
    "chosen_transformer_name = 'PowerTransformer'  # Example: choose 'SquareRootTransformer'\n",
    "chosen_transformer = transformers[chosen_transformer_name]\n",
    "\n",
    "# Apply the chosen transformer to the training data\n",
    "if callable(chosen_transformer):\n",
    "    X_train_power = chosen_transformer(X_train)\n",
    "else:\n",
    "    X_train_power = chosen_transformer.fit_transform(X_train)\n",
    "scaler = StandardScaler()\n",
    "X_train_scaled_power = scaler.fit_transform(X_train_power)\n",
    "\n",
    "svm_power = SVC(kernel='rbf', C=10.0, gamma='scale')\n",
    "svm_power.fit(X_train_scaled_power, y_train)\n",
    "\n",
    "# Load test data\n",
    "raw_test = pd.read_csv(\"test.csv\")\n",
    "X_test = raw_test.drop(['query_id', 'url_id', 'id', 'sig5'], axis=1)\n",
    "\n",
    "if callable(chosen_transformer):\n",
    "    X_test_power = chosen_transformer(X_test)\n",
    "else:\n",
    "    X_test_power = chosen_transformer.transform(X_test)\n",
    "X_test_scaled_power = scaler.transform(X_test_power)\n",
    "\n",
    "y_pred_test_power = svm_power.predict(X_test_scaled_power)\n",
    "\n",
    "# Create a DataFrame for predictions\n",
    "predictions_df_power = pd.DataFrame({\n",
    "    'predicted_relevance': y_pred_test_power,\n",
    "    'id': raw_test['id'] # Include the 'id' column to match the original test data format\n",
    "})\n",
    "\n",
    "# Save predictions to CSV\n",
    "predictions_df_power.to_csv(\"predictions_power_svm_remove_sig5.csv\", index=False)"
   ]
  },
  {
   "cell_type": "code",
   "execution_count": null,
   "id": "51540b8c-1995-41aa-a47c-5954c03407de",
   "metadata": {},
   "outputs": [],
   "source": []
  }
 ],
 "metadata": {
  "kernelspec": {
   "display_name": "Python [conda env:base] *",
   "language": "python",
   "name": "conda-base-py"
  },
  "language_info": {
   "codemirror_mode": {
    "name": "ipython",
    "version": 3
   },
   "file_extension": ".py",
   "mimetype": "text/x-python",
   "name": "python",
   "nbconvert_exporter": "python",
   "pygments_lexer": "ipython3",
   "version": "3.11.7"
  }
 },
 "nbformat": 4,
 "nbformat_minor": 5
}
